{
 "cells": [
  {
   "cell_type": "code",
   "execution_count": 1,
   "metadata": {},
   "outputs": [
    {
     "data": {
      "text/plain": [
       "[[True, False, False, False, False, False, False, False, False, False, False],\n",
       " [True, False, False, False, True, False, False, False, False, False, False],\n",
       " [True, True, False, False, True, True, False, False, False, False, False],\n",
       " [True, True, False, False, True, True, True, False, False, True, True]]"
      ]
     },
     "execution_count": 1,
     "metadata": {},
     "output_type": "execute_result"
    }
   ],
   "source": [
    "# N枚のカード、A1, A2, A3, ・・・An　それぞれに数字　a1, a2, a3, ... an　が書かれている。\n",
    "# ただしai ≠ aj (i　≠ j)\n",
    "# 数字の合計がSになる組み合わせがあるか？\n",
    "\n",
    "N = 3\n",
    "S = 10\n",
    "A = [4, 1, 5]\n",
    "dp = [[False] * (S+1) for _ in range(N+1)]\n",
    "\n",
    "dp[0][0] = True\n",
    "for i in range(1, N+1):\n",
    "    for j in range(S+1):\n",
    "        if j - A[i-1] < 0:\n",
    "            dp[i][j] = dp[i-1][j]\n",
    "        else:\n",
    "            if dp[i-1][j] == True or dp[i-1][j-A[i-1]] == True:\n",
    "                dp[i][j] = True\n",
    "                \n",
    "dp"
   ]
  },
  {
   "cell_type": "code",
   "execution_count": 39,
   "metadata": {},
   "outputs": [
    {
     "data": {
      "text/plain": [
       "[[True, False, False, False, False, False, False, False, False, False, False],\n",
       " [True, False, False, False, True, False, False, False, False, False, False],\n",
       " [True, False, False, False, True, False, False, True, False, False, False],\n",
       " [True, False, False, False, True, False, False, True, True, False, False],\n",
       " [True, False, False, False, True, True, False, True, True, True, False],\n",
       " [True, True, False, False, True, True, True, True, True, True, True]]"
      ]
     },
     "execution_count": 39,
     "metadata": {},
     "output_type": "execute_result"
    }
   ],
   "source": [
    "# N=５本の棒がある。それぞれの長さは (a1, a2, a3, a4, a5) =(4, 7, 8, 5, 1) である。\n",
    "# 棒の長さの合計がS=7となる組み合わせがあるか？\n",
    "N = 5\n",
    "S = 7\n",
    "A = [4, 7, 8, 5, 1]\n",
    "\n",
    "dp = [[False]* (11) for _ in range(N+1)] \n",
    "dp[0][0] = True #　棒０本で長さ０が作れる、と考える。\n",
    "for i in range(1, N+1):\n",
    "    for j in range(11):\n",
    "        # jがマイナスになってしまう場合は、i番目の棒が選べない。\n",
    "        if j - A[i-1] < 0:\n",
    "            dp[i][j] = dp[i-1][j]\n",
    "        else:\n",
    "            if dp[i-1][j] == True or dp[i-1][j-A[i-1]] == True:\n",
    "                dp[i][j] = True\n",
    "dp"
   ]
  },
  {
   "cell_type": "code",
   "execution_count": 105,
   "metadata": {},
   "outputs": [
    {
     "data": {
      "text/plain": [
       "[[0, 0, 0, 0, 0, 0, 0, 0, 0, 0, 0],\n",
       " [0, 0, 0, 4, 4, 4, 4, 4, 4, 4, 4],\n",
       " [0, 0, 0, 4, 7, 7, 7, 11, 11, 11, 11],\n",
       " [0, 0, 0, 4, 7, 8, 8, 11, 12, 15, 15],\n",
       " [0, 0, 0, 4, 7, 8, 8, 11, 12, 15, 15],\n",
       " [0, 1, 1, 4, 7, 8, 9, 11, 12, 15, 16]]"
      ]
     },
     "execution_count": 105,
     "metadata": {},
     "output_type": "execute_result"
    }
   ],
   "source": [
    "# N=５本の棒がある。\n",
    "# それぞれの長さと金額は \n",
    "# (a1, v1) = (4, 150) (a2, v2) = (7, 200) (a3, v3) = (8, 250) (a4, v4) = (5, 200) (a5, v5) = (1, 50) である。\n",
    "# 金額５００円以内での棒の長さの合計の最大は？\n",
    "N = 5\n",
    "A = [0, 4, 7, 8, 5, 1]\n",
    "V = [0, 150, 200, 250, 200, 50]\n",
    "\n",
    "dp = [[0] * 11 for _ in range(len(A))] # 金額は50円単位で０円から500円までなので11列\n",
    "\n",
    "dp[0][0] = 0 # 0本（行）で０円（列）を使って作れる長さは０\n",
    "\n",
    "for i in range(1, N+1):\n",
    "    for j in range(11):\n",
    "        if j < V[i]//50:\n",
    "            dp[i][j] = dp[i -1][j]\n",
    "        else:\n",
    "            dp[i][j] = max(dp[i -1][j], dp[i-1][j-V[i]//50] + A[i])\n",
    "dp"
   ]
  },
  {
   "cell_type": "code",
   "execution_count": 100,
   "metadata": {},
   "outputs": [
    {
     "data": {
      "text/plain": [
       "[[0, -1, -1, -1, -1, -1, -1, -1, -1, -1, -1],\n",
       " [0, -1, -1, -1, 7, 6, 6, 6, 6, 6, 6],\n",
       " [0, -1, -1, -1, 7, 8, 7, 7, 7, 15, 14],\n",
       " [0, -1, -1, -1, 7, 8, 7, 7, 12, 15, 14],\n",
       " [0, 1, 0, 0, 7, 8, 9, 8, 12, 15, 16],\n",
       " [-1, -1, -1, -1, -1, -1, -1, -1, -1, -1, -1]]"
      ]
     },
     "execution_count": 100,
     "metadata": {},
     "output_type": "execute_result"
    }
   ],
   "source": [
    "dp"
   ]
  },
  {
   "cell_type": "code",
   "execution_count": 97,
   "metadata": {},
   "outputs": [
    {
     "ename": "IndexError",
     "evalue": "list index out of range",
     "output_type": "error",
     "traceback": [
      "\u001b[0;31m---------------------------------------------------------------------------\u001b[0m",
      "\u001b[0;31mIndexError\u001b[0m                                Traceback (most recent call last)",
      "\u001b[0;32m<ipython-input-97-96bac19c28aa>\u001b[0m in \u001b[0;36m<module>\u001b[0;34m\u001b[0m\n\u001b[1;32m      9\u001b[0m \u001b[0;32mfor\u001b[0m \u001b[0mi\u001b[0m \u001b[0;32min\u001b[0m \u001b[0mrange\u001b[0m\u001b[0;34m(\u001b[0m\u001b[0;36m1\u001b[0m\u001b[0;34m,\u001b[0m \u001b[0mN\u001b[0m\u001b[0;34m+\u001b[0m\u001b[0;36m1\u001b[0m\u001b[0;34m)\u001b[0m\u001b[0;34m:\u001b[0m\u001b[0;34m\u001b[0m\u001b[0;34m\u001b[0m\u001b[0m\n\u001b[1;32m     10\u001b[0m     \u001b[0;32mfor\u001b[0m \u001b[0mj\u001b[0m \u001b[0;32min\u001b[0m \u001b[0mrange\u001b[0m\u001b[0;34m(\u001b[0m\u001b[0;36m11\u001b[0m\u001b[0;34m)\u001b[0m\u001b[0;34m:\u001b[0m\u001b[0;34m\u001b[0m\u001b[0;34m\u001b[0m\u001b[0m\n\u001b[0;32m---> 11\u001b[0;31m         \u001b[0;32mif\u001b[0m \u001b[0;34m(\u001b[0m\u001b[0mj\u001b[0m \u001b[0;34m-\u001b[0m \u001b[0mV\u001b[0m\u001b[0;34m[\u001b[0m\u001b[0mi\u001b[0m\u001b[0;34m]\u001b[0m\u001b[0;34m)\u001b[0m \u001b[0;34m<\u001b[0m \u001b[0;36m0\u001b[0m\u001b[0;34m:\u001b[0m\u001b[0;34m\u001b[0m\u001b[0;34m\u001b[0m\u001b[0m\n\u001b[0m\u001b[1;32m     12\u001b[0m             \u001b[0mdp\u001b[0m\u001b[0;34m[\u001b[0m\u001b[0mi\u001b[0m\u001b[0;34m]\u001b[0m\u001b[0;34m[\u001b[0m\u001b[0mj\u001b[0m\u001b[0;34m]\u001b[0m \u001b[0;34m=\u001b[0m \u001b[0mdp\u001b[0m\u001b[0;34m[\u001b[0m\u001b[0mi\u001b[0m \u001b[0;34m-\u001b[0m\u001b[0;36m1\u001b[0m\u001b[0;34m]\u001b[0m\u001b[0;34m[\u001b[0m\u001b[0mj\u001b[0m\u001b[0;34m]\u001b[0m\u001b[0;34m\u001b[0m\u001b[0;34m\u001b[0m\u001b[0m\n\u001b[1;32m     13\u001b[0m         \u001b[0;32melse\u001b[0m\u001b[0;34m:\u001b[0m\u001b[0;34m\u001b[0m\u001b[0;34m\u001b[0m\u001b[0m\n",
      "\u001b[0;31mIndexError\u001b[0m: list index out of range"
     ]
    }
   ],
   "source": [
    "N = 5\n",
    "A = [4, 7, 8, 5, 1]\n",
    "V = [3, 4, 5, 4, 1]\n",
    "\n",
    "dp = [[-1] * 11 for _ in range(len(A) + 1)] # 金額は50円単位で０円から500円までなので11列\n",
    "\n",
    "dp[0][0] = 0 # 0本（行）で０円（列）を使って作れる長さは０\n",
    "\n",
    "for i in range(1, N+1):\n",
    "    for j in range(11):\n",
    "        if (j - V[i]) < 0:\n",
    "            dp[i][j] = dp[i -1][j]\n",
    "        else:\n",
    "            dp[i][j] = max(dp[i -1][j], dp[i-1][j-V[i]] + A[i])\n",
    "dp"
   ]
  },
  {
   "cell_type": "code",
   "execution_count": 98,
   "metadata": {},
   "outputs": [
    {
     "data": {
      "text/plain": [
       "[[0, -1, -1, -1, -1, -1, -1, -1, -1, -1, -1],\n",
       " [0, -1, -1, -1, 7, 6, 6, 6, 6, 6, 6],\n",
       " [0, -1, -1, -1, 7, 8, 7, 7, 7, 15, 14],\n",
       " [0, -1, -1, -1, 7, 8, 7, 7, 12, 15, 14],\n",
       " [0, 1, 0, 0, 7, 8, 9, 8, 12, 15, 16],\n",
       " [-1, -1, -1, -1, -1, -1, -1, -1, -1, -1, -1]]"
      ]
     },
     "execution_count": 98,
     "metadata": {},
     "output_type": "execute_result"
    }
   ],
   "source": [
    "dp"
   ]
  },
  {
   "cell_type": "code",
   "execution_count": null,
   "metadata": {},
   "outputs": [],
   "source": []
  }
 ],
 "metadata": {
  "kernelspec": {
   "display_name": "Python 3",
   "language": "python",
   "name": "python3"
  },
  "language_info": {
   "codemirror_mode": {
    "name": "ipython",
    "version": 3
   },
   "file_extension": ".py",
   "mimetype": "text/x-python",
   "name": "python",
   "nbconvert_exporter": "python",
   "pygments_lexer": "ipython3",
   "version": "3.8.8"
  }
 },
 "nbformat": 4,
 "nbformat_minor": 4
}
