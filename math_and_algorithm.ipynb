{
 "cells": [
  {
   "cell_type": "markdown",
   "metadata": {},
   "source": [
    "## アルゴリズムx数学が基礎からしっかり身につく本"
   ]
  },
  {
   "cell_type": "code",
   "execution_count": null,
   "metadata": {},
   "outputs": [],
   "source": [
    "# 10進法を2進法に変換\n",
    "\n",
    "n = int(input())\n",
    "result = []\n",
    "binary = ''\n",
    "\n",
    "while True:\n",
    "    if n == 1:\n",
    "        result.append(n)\n",
    "        break\n",
    "    else:\n",
    "        result.append(n % 2)\n",
    "        n = n // 2\n",
    "print(result[::-1])\n",
    "\n",
    "for x in map(str, result[::-1]):\n",
    "    binary += x\n",
    "print(int(binary))"
   ]
  },
  {
   "cell_type": "code",
   "execution_count": null,
   "metadata": {},
   "outputs": [],
   "source": [
    "# 2進法を10進法に変換\n",
    "kotae = 0\n",
    "\n",
    "binary = list(map(int, input().split()))\n",
    "keta = len(binary)\n",
    "for i in binary:\n",
    "    kotae += i * 2 ** (keta-1)\n",
    "    keta -= 1\n",
    "print(kotae)"
   ]
  },
  {
   "cell_type": "code",
   "execution_count": 1,
   "metadata": {},
   "outputs": [
    {
     "name": "stdout",
     "output_type": "stream",
     "text": [
      "10\n"
     ]
    },
    {
     "data": {
      "text/plain": [
       "0"
      ]
     },
     "execution_count": 1,
     "metadata": {},
     "output_type": "execute_result"
    }
   ],
   "source": [
    "a = list(map(int, input().split()))\n",
    "sum(a) % 10"
   ]
  },
  {
   "cell_type": "code",
   "execution_count": 2,
   "metadata": {},
   "outputs": [
    {
     "name": "stdout",
     "output_type": "stream",
     "text": [
      "100\n",
      "100\n",
      "0\n"
     ]
    }
   ],
   "source": [
    "sums = 0\n",
    "a = list(map(int, input().split()))\n",
    "for i in range(len(a)):\n",
    "    sums += a[i]\n",
    "\n",
    "print(sums)\n",
    "print(sums % 2)"
   ]
  },
  {
   "cell_type": "code",
   "execution_count": 9,
   "metadata": {},
   "outputs": [
    {
     "name": "stdout",
     "output_type": "stream",
     "text": [
      "5\n",
      "120\n"
     ]
    }
   ],
   "source": [
    "# 2.5.3\n",
    "n = int(input())\n",
    "ans = 1\n",
    "for i in range(n, 0, -1):\n",
    "    ans *=  i\n",
    "print(ans)"
   ]
  },
  {
   "cell_type": "code",
   "execution_count": 10,
   "metadata": {},
   "outputs": [
    {
     "name": "stdout",
     "output_type": "stream",
     "text": [
      "100\n",
      "2 3 5 7 11 13 17 19 23 29 31 37 41 43 47 53 59 61 67 71 73 79 83 89 97 \n",
      "\n"
     ]
    }
   ],
   "source": [
    "# 2.5.4\n",
    "# 入力N以下の素数を表示する。\n",
    "\n",
    "result = ''\n",
    "n = int(input())\n",
    "list_box = []\n",
    "\n",
    "if n == 2:\n",
    "    list_box.append(n)\n",
    "\n",
    "else:\n",
    "    for i in range(2, n+1):\n",
    "        list_box.append(i)\n",
    "        for j in range(2, i):\n",
    "            if i % j == 0:\n",
    "                list_box.pop(-1)\n",
    "                break\n",
    "\n",
    "for x in list_box:\n",
    "    result += str(x) + ' '\n",
    "print(result)"
   ]
  },
  {
   "cell_type": "code",
   "execution_count": 11,
   "metadata": {},
   "outputs": [
    {
     "data": {
      "text/plain": [
       "3.321928094887362"
      ]
     },
     "execution_count": 11,
     "metadata": {},
     "output_type": "execute_result"
    }
   ],
   "source": [
    "# ランダウOって何？\n",
    "# log10(N)とlog2(N)では計算量にあまり差がない。\n",
    "# N=2 のとき何倍の差があるか？\n",
    "import math\n",
    "math.log2(2) / math.log10(2)"
   ]
  },
  {
   "cell_type": "code",
   "execution_count": 52,
   "metadata": {},
   "outputs": [],
   "source": [
    "# 素数の判定。\n",
    "# Nが素数かどうかの判定は、sqrt(N)までの整数でNが割り切れるか確認すれば良い。\n",
    "import math\n",
    "def isprime(n):\n",
    "    is_prime = True\n",
    "    p = int(math.sqrt(n))  # n**0.5でいいよね\n",
    "    for i in range(2, p):\n",
    "        if n % i == 0:\n",
    "            is_prime = False\n",
    "    if is_prime:\n",
    "        return print(f'{n} is prime number')\n",
    "    else:\n",
    "        return print(f'{n} is NOT prime number')"
   ]
  },
  {
   "cell_type": "code",
   "execution_count": 53,
   "metadata": {},
   "outputs": [
    {
     "name": "stdout",
     "output_type": "stream",
     "text": [
      "47 is prime number\n"
     ]
    }
   ],
   "source": [
    "isprime(47)"
   ]
  },
  {
   "cell_type": "code",
   "execution_count": 4,
   "metadata": {},
   "outputs": [],
   "source": [
    "# 約数をすべて表示するプログラム\n",
    "import math\n",
    "def get_all_divisors(n):\n",
    "    list_box = []\n",
    "    for i in range(1, int(math.sqrt(n))):\n",
    "        if n % i == 0:\n",
    "            list_box.append(i)\n",
    "            list_box.append(int(n/i))\n",
    "    print(sorted(list_box))"
   ]
  },
  {
   "cell_type": "code",
   "execution_count": 5,
   "metadata": {},
   "outputs": [
    {
     "name": "stdout",
     "output_type": "stream",
     "text": [
      "[1, 2, 4, 5, 8, 10, 20, 25, 40, 50, 100, 125, 200, 250, 500, 1000]\n"
     ]
    }
   ],
   "source": [
    "get_all_divisors(1000)"
   ]
  },
  {
   "cell_type": "code",
   "execution_count": 6,
   "metadata": {},
   "outputs": [
    {
     "name": "stdout",
     "output_type": "stream",
     "text": [
      "[1, 2, 11, 13, 22, 26, 143, 286]\n"
     ]
    }
   ],
   "source": [
    "get_all_divisors(286)"
   ]
  },
  {
   "cell_type": "code",
   "execution_count": 8,
   "metadata": {},
   "outputs": [
    {
     "name": "stdout",
     "output_type": "stream",
     "text": [
      "20211225\n",
      "[1, 3, 5, 15, 25, 31, 75, 93, 155, 465, 775, 2325]\n"
     ]
    }
   ],
   "source": [
    "n = int(input())\n",
    "list_box = []\n",
    "for i in range(1, int(math.sqrt(n))):\n",
    "    if n % i == 0:\n",
    "        list_box.append(i)\n",
    "print(list_box)"
   ]
  },
  {
   "cell_type": "code",
   "execution_count": 7,
   "metadata": {},
   "outputs": [
    {
     "name": "stdout",
     "output_type": "stream",
     "text": [
      "HelloHelloHelloHelloHelloHelloHelloHelloHello\n"
     ]
    }
   ],
   "source": [
    "# きまぐれ\n",
    "def helloxtimes(n):\n",
    "    print('Hello'*n)\n",
    "helloxtimes(9)"
   ]
  },
  {
   "cell_type": "code",
   "execution_count": 18,
   "metadata": {},
   "outputs": [
    {
     "name": "stdout",
     "output_type": "stream",
     "text": [
      "1.0645812948447542\n"
     ]
    }
   ],
   "source": [
    "import math\n",
    "list_box = [2,4,6,7,8,9]\n",
    "mean = sum(list_box) / len(list_box)\n",
    "s2 = 0\n",
    "for i in list_box:\n",
    "    s2 += (i - mean)**2\n",
    "hjgs = math.sqrt(s2/(len(list_box)-1)/len(list_box))\n",
    "print(hjgs)\n"
   ]
  },
  {
   "cell_type": "code",
   "execution_count": 22,
   "metadata": {},
   "outputs": [
    {
     "name": "stdout",
     "output_type": "stream",
     "text": [
      "分散：6081.5599999999995\n",
      "標準偏差：77.9843574058285\n",
      "標準誤差：25.994785801942836\n"
     ]
    }
   ],
   "source": [
    "import math\n",
    "list_box = [126, 224, 34, 25, 199, 89, 178, 14, 38, 11]\n",
    "mean = sum(list_box) / len(list_box)\n",
    "s2 = 0\n",
    "for i in list_box:\n",
    "    s2 += (i - mean)**2\n",
    "var = s2 / len(list_box) # 分散\n",
    "std = math.sqrt(var) #　標準偏差\n",
    "se = math.sqrt(s2/(len(list_box)-1)/len(list_box)) # 標準誤差\n",
    "print(f'分散：{var}')\n",
    "print(f'標準偏差：{std}')\n",
    "print(f'標準誤差：{se}')"
   ]
  },
  {
   "cell_type": "code",
   "execution_count": 27,
   "metadata": {},
   "outputs": [
    {
     "name": "stdout",
     "output_type": "stream",
     "text": [
      "分散：0.37599999999999967\n",
      "標準偏差：0.6131883886702354\n",
      "標準誤差：0.19390719429665307\n"
     ]
    }
   ],
   "source": [
    "import math\n",
    "list_box = [15.4, 15.8, 15.9, 16.1, 16.2, 16.4, 16.6, 16.8, 16.9, 17.5]\n",
    "mean = sum(list_box) / len(list_box)\n",
    "s2 = 0\n",
    "for i in list_box:\n",
    "    s2 += (i - mean)**2\n",
    "var = s2 / (len(list_box)-1) # 不偏分散\n",
    "std = math.sqrt(var) #　不偏分散の平方根（標準偏差）\n",
    "se = math.sqrt(var/len(list_box)) # 標準誤差\n",
    "print(f'分散：{var}')\n",
    "print(f'標準偏差：{std}')\n",
    "print(f'標準誤差：{se}')"
   ]
  },
  {
   "cell_type": "code",
   "execution_count": 23,
   "metadata": {},
   "outputs": [
    {
     "name": "stdout",
     "output_type": "stream",
     "text": [
      "12\n",
      "2\n",
      "2\n",
      "3\n",
      "2 2 3\n"
     ]
    }
   ],
   "source": [
    "# 設末問題　問題3.1.2\n",
    "\n",
    "N = int(input())\n",
    "\n",
    "# 素因数分解\n",
    "Answer = []\n",
    "LIMIT = int(N ** 0.5)\n",
    "for i in range(2, LIMIT + 1):  # 変数iを2からNの平方根（の整数）まで変化させ、Nをiで割っていく。\n",
    "    while N % i == 0:  # 割り切れたとき、そのiはNの約数だから\n",
    "        N /= i  # Nをiで割っておく。 whileが回るたびにNがｉで除されていく\n",
    "        Answer.append(i)  # iで割り切れたのだから約数としてAnswerにアペンドしていく。\n",
    "        # while ループのはじめに戻り、Nをiで割った商が更に同じiで割れる場合はwhileがまた繰り返される。\n",
    "        # 同じiで割り切れない場合はwhileを抜けて次のfor文に入る。つまりiが１つインクリメントされてwhileに諮られる。\n",
    "\n",
    "if N >= 2:  # Nがfor文内で割り切れなかった場合は割り切れたなかったNを最後にアペンドする。\n",
    "    Answer.append(int(N))\n",
    "\n",
    "# 出力\n",
    "print(*Answer)  # アンパッキングして出力"
   ]
  },
  {
   "cell_type": "code",
   "execution_count": 5,
   "metadata": {},
   "outputs": [
    {
     "name": "stdout",
     "output_type": "stream",
     "text": [
      "123\n",
      "[3, 41]\n"
     ]
    }
   ],
   "source": [
    "n = int(input())\n",
    "\n",
    "answer = []\n",
    "for i in range(2, int(n**0.5)+1):\n",
    "    while n % i == 0:\n",
    "        n = n / i\n",
    "        answer.append(i)\n",
    "if n >= 2:\n",
    "    answer.append(int(n))\n",
    "    \n",
    "print(answer)"
   ]
  },
  {
   "cell_type": "code",
   "execution_count": 2,
   "metadata": {},
   "outputs": [
    {
     "name": "stdout",
     "output_type": "stream",
     "text": [
      "30 30\n",
      "30\n"
     ]
    }
   ],
   "source": [
    "# ユークリッド互除法\n",
    "\"\"\"\n",
    "整数AとBの最大公約数を求めるとき、\n",
    "max(A, B)をmin(A, B)で割った余りを求め、\n",
    "今度はその余りともう一方の整数（直前の割り算において割った側の整数）の\n",
    "大小を比較して、大きい整数を小さい整数で割った余りを・・・を繰り返し\n",
    "どちらかが０（ゼロ）になった時の相手方の整数が、AとBの最大公約数となる。\n",
    "\"\"\"\n",
    "\n",
    "a, b = map(int, input().split())\n",
    "\n",
    "# 大きい整数を小さい整数で割った余りを、大きい整数と置き換えていき\n",
    "# 最終的に余りが零になったときの相手側の整数が、最大公約数である。\n",
    "while min(a, b) != 0:\n",
    "    x = max(a, b) % min(a, b) \n",
    "    if a >= b:\n",
    "        a = x\n",
    "    else:\n",
    "        b = x\n",
    "print(max(a, b))"
   ]
  },
  {
   "cell_type": "code",
   "execution_count": 15,
   "metadata": {},
   "outputs": [
    {
     "name": "stdout",
     "output_type": "stream",
     "text": [
      "10 11\n"
     ]
    },
    {
     "data": {
      "text/plain": [
       "1"
      ]
     },
     "execution_count": 15,
     "metadata": {},
     "output_type": "execute_result"
    }
   ],
   "source": [
    "a, b = map(int, input().split())\n",
    "max(a, b) % min(a, b).0"
   ]
  },
  {
   "cell_type": "code",
   "execution_count": 30,
   "metadata": {},
   "outputs": [
    {
     "name": "stdout",
     "output_type": "stream",
     "text": [
      "8 12 32\n",
      "4\n"
     ]
    }
   ],
   "source": [
    "# 3個以上の最大公約数\n",
    "\"\"\"\n",
    "まず２つの整数の最大公約数を求め、\n",
    "次にその最大公約数と次の整数の最大公約数を求めて、\n",
    "これを繰り返していき最後に出た最大公約数が答えとなる。\n",
    "\"\"\"\n",
    "\n",
    "# 以下アルゴリズム的には合っているようだが時間がかかる\n",
    "n = int(input())\n",
    "elements = list(map(int, input().split()))\n",
    "while len(elements) > 1:\n",
    "    x = elements.pop(0)\n",
    "    y = elements.pop(0)\n",
    "    while min(x, y) != 0:\n",
    "        z = max(x, y) % min(x, y)\n",
    "        if x >= y:\n",
    "            x = z\n",
    "        else:\n",
    "            y = z\n",
    "    elements.insert(0, max(x, y))\n",
    "print(*elements)"
   ]
  },
  {
   "cell_type": "code",
   "execution_count": 55,
   "metadata": {},
   "outputs": [
    {
     "name": "stdout",
     "output_type": "stream",
     "text": [
      "2\n",
      "33 88\n",
      "11\n"
     ]
    }
   ],
   "source": [
    "# 3個以上の最大公約数(修正)\n",
    "\n",
    "# 時間短縮回答\n",
    "# リストの内容をいちいち書き換えると時間がかかる（問題では30倍も違う）ので、\n",
    "# list[i]の形で取って来る方法を考える。\n",
    "\n",
    "def gcd(x, y):  # Greatest Common Divisor\n",
    "    while x >= 1 and y >= 1:\n",
    "        if x >= y:\n",
    "            x = x % y\n",
    "        else:\n",
    "            y = y % x\n",
    "    if x >= 1:\n",
    "        return x\n",
    "    else:\n",
    "        return y\n",
    "    \n",
    "n = int(input())\n",
    "elements = list(map(int, input().split()))\n",
    "\n",
    "r = gcd(elements[0], elements[1])  # 初回の最大公約数計算もfor文一気に書こうとしないのが時短のミソ。\n",
    "for i in range(2, n): # for文の中で関数を再帰的に使うのもミソ。\n",
    "    r = gcd(r, elements[i])\n",
    "    \n",
    "print(r)"
   ]
  },
  {
   "cell_type": "code",
   "execution_count": 56,
   "metadata": {},
   "outputs": [
    {
     "name": "stdout",
     "output_type": "stream",
     "text": [
      "2\n",
      "9 6\n",
      "18\n"
     ]
    }
   ],
   "source": [
    "# 最小公倍数\n",
    "\n",
    "\"\"\"\n",
    "２つの整数（A, B）を乗じる。\n",
    "ユークリッド互除法で余りがゼロになるまで計算したとき\n",
    "最後の計算において割る方の数Ｚではじめの乗算結果を除する。\n",
    "Ａ×Ｂ÷Ｚ\n",
    "（最後の計算において割る方の数というのは、余りがゼロになるひとつ前の割り算のあまりだよね。）\n",
    "\"\"\"\n",
    "\n",
    "def lcm(a, b): # Least Common Multiple\n",
    "    a_init, b_init = a, b\n",
    "    while max(a, b) % min(a, b) != 0:\n",
    "        z = max(a, b) % min(a, b)\n",
    "        if a >= b:\n",
    "            a = z\n",
    "        else:\n",
    "            b = z\n",
    "    return int(a_init * b_init / min(a, b))\n",
    "\n",
    "n = int(input())\n",
    "a, b = map(int, input().split())\n",
    "\n",
    "print(lcm(a, b))"
   ]
  },
  {
   "cell_type": "code",
   "execution_count": 58,
   "metadata": {},
   "outputs": [
    {
     "name": "stdout",
     "output_type": "stream",
     "text": [
      "3\n",
      "12 18 14\n",
      "252\n"
     ]
    }
   ],
   "source": [
    "# 3つ以上の整数における最小公倍数\n",
    "\n",
    "def lcm(a, b): # Least Common Multiple\n",
    "    a_init, b_init = a, b\n",
    "    while max(a, b) % min(a, b) != 0:\n",
    "        z = max(a, b) % min(a, b)\n",
    "        if a >= b:\n",
    "            a = z\n",
    "        else:\n",
    "            b = z\n",
    "    return int(a_init * b_init / min(a, b))\n",
    "\n",
    "n = int(input())\n",
    "elements = list(map(int, input().split()))\n",
    "\n",
    "r = lcm(elements[0], elements[1])\n",
    "for i in range(2, n):\n",
    "    r = lcm(r, elements[i])\n",
    "\n",
    "print(r)"
   ]
  },
  {
   "cell_type": "code",
   "execution_count": 8,
   "metadata": {},
   "outputs": [
    {
     "name": "stdout",
     "output_type": "stream",
     "text": [
      "8 5\n",
      "56\n"
     ]
    }
   ],
   "source": [
    "#節末問題3.3.3\n",
    "'''\n",
    "nCr = n!/r!*(n-r)!\n",
    "'''\n",
    "def factorial(x):\n",
    "    ans = 1\n",
    "    for i in range(1, x+1):\n",
    "        ans *= i\n",
    "    return ans\n",
    "\n",
    "n, r = map(int, input().split())\n",
    "upper = factorial(n)\n",
    "lower = factorial(r) * factorial(n-r)\n",
    "print(int(upper / lower))"
   ]
  },
  {
   "cell_type": "code",
   "execution_count": 9,
   "metadata": {},
   "outputs": [
    {
     "name": "stdout",
     "output_type": "stream",
     "text": [
      "5\n",
      "100 300 400 400 200\n",
      "3\n"
     ]
    }
   ],
   "source": [
    "#節末問題3.3.4\n",
    "\n",
    "\"\"\"\n",
    "ex)\n",
    "5\n",
    "100 300 400 400 200\n",
    "->3\n",
    "\"\"\"\n",
    "\n",
    "n = int(input())\n",
    "list_a = list(map(int, input().split()))\n",
    "\n",
    "a, b, c, d = 0, 0, 0, 0\n",
    "\n",
    "for i in list_a:\n",
    "    if i == 100:\n",
    "        a += 1\n",
    "    elif i == 200:\n",
    "        b += 1\n",
    "    elif i == 300:\n",
    "        c += 1\n",
    "    elif i == 400:\n",
    "        d += 1\n",
    "print(a * d + b * c)"
   ]
  },
  {
   "cell_type": "code",
   "execution_count": 11,
   "metadata": {},
   "outputs": [
    {
     "name": "stdout",
     "output_type": "stream",
     "text": [
      "6\n",
      "1 3 2 1 1 2\n",
      "4\n"
     ]
    }
   ],
   "source": [
    "#節末問題3.3.5\n",
    "\n",
    "def factorial(x):\n",
    "    ans = 1\n",
    "    for i in range(1, x+1):\n",
    "        ans *= i\n",
    "    return ans\n",
    "\n",
    "def combination(n, r):\n",
    "    upper = factorial(n)\n",
    "    lower = factorial(r) * factorial(n-r)\n",
    "    return (int(upper / lower))\n",
    "\n",
    "n = int(input())\n",
    "list_a = list(map(int, input().split()))\n",
    "\n",
    "red, yellow, blue = 0, 0, 0\n",
    "\n",
    "for i in list_a:\n",
    "    if i == 1:\n",
    "        red += 1\n",
    "    elif i == 2:\n",
    "        yellow += 1\n",
    "    elif i == 3:\n",
    "        blue += 1\n",
    "print(combination(red, 2) + combination(yellow, 2) + combination(blue, 2))"
   ]
  },
  {
   "cell_type": "code",
   "execution_count": 13,
   "metadata": {},
   "outputs": [
    {
     "name": "stdout",
     "output_type": "stream",
     "text": [
      "6\n",
      "1 3 2 1 1 2\n",
      "4\n"
     ]
    }
   ],
   "source": [
    "#節末問題3.3.5(改)\n",
    "\n",
    "n = int(input())\n",
    "list_a = list(map(int, input().split()))\n",
    "\n",
    "red, yellow, blue = 0, 0, 0\n",
    "\n",
    "for i in list_a:\n",
    "    if i == 1:\n",
    "        red += 1\n",
    "    elif i == 2:\n",
    "        yellow += 1\n",
    "    elif i == 3:\n",
    "        blue += 1\n",
    "\n",
    "ans = (red*(red-1))/2 + (yellow*(yellow-1))/2 + (blue*(blue-1))/2\n",
    "print(int(ans))"
   ]
  },
  {
   "cell_type": "code",
   "execution_count": 17,
   "metadata": {},
   "outputs": [
    {
     "name": "stdout",
     "output_type": "stream",
     "text": [
      "6\n",
      "40000 50000 20000 80000 50000 30000\n",
      "2\n"
     ]
    }
   ],
   "source": [
    "#節末問題3.3.6\n",
    "\n",
    "n = int(input())\n",
    "list_a = list(map(int, input().split()))\n",
    "\n",
    "petterns = 0\n",
    "\n",
    "for i in range(n-3):\n",
    "    for j in range(i+1, n):\n",
    "        if list_a[i] + list_a[j] == 100000:\n",
    "            petterns += 1\n",
    "\n",
    "print(petterns)"
   ]
  },
  {
   "cell_type": "code",
   "execution_count": 19,
   "metadata": {},
   "outputs": [
    {
     "name": "stdout",
     "output_type": "stream",
     "text": [
      "100000\n"
     ]
    }
   ],
   "source": [
    "#節末問題3.3.6 模範解答\n",
    "\n",
    "# 入力\n",
    "N = int(input())\n",
    "A = list(map(int, input().split()))\n",
    "\n",
    "# 答えを求める\n",
    "cnt = [0 for i in range(100000)]\n",
    "for i in range(N):\n",
    "    cnt[A[i]] += 1\n",
    "\n",
    "Answer = 0\n",
    "for i in range(1, 50000):\n",
    "    Answer += cnt[i] * cnt[100000 - i]\n",
    "Answer += cnt[50000] * (cnt[50000] - 1) // 2\n",
    "\n",
    "# 出力\n",
    "print(Answer)"
   ]
  },
  {
   "cell_type": "code",
   "execution_count": null,
   "metadata": {},
   "outputs": [],
   "source": []
  }
 ],
 "metadata": {
  "kernelspec": {
   "display_name": "Python 3",
   "language": "python",
   "name": "python3"
  },
  "language_info": {
   "codemirror_mode": {
    "name": "ipython",
    "version": 3
   },
   "file_extension": ".py",
   "mimetype": "text/x-python",
   "name": "python",
   "nbconvert_exporter": "python",
   "pygments_lexer": "ipython3",
   "version": "3.8.8"
  }
 },
 "nbformat": 4,
 "nbformat_minor": 4
}
