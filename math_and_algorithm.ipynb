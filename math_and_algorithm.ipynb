{
 "cells": [
  {
   "cell_type": "code",
   "execution_count": 1,
   "metadata": {},
   "outputs": [
    {
     "name": "stdout",
     "output_type": "stream",
     "text": [
      "10\n"
     ]
    },
    {
     "data": {
      "text/plain": [
       "0"
      ]
     },
     "execution_count": 1,
     "metadata": {},
     "output_type": "execute_result"
    }
   ],
   "source": [
    "a = list(map(int, input().split()))\n",
    "sum(a) % 10"
   ]
  },
  {
   "cell_type": "code",
   "execution_count": 2,
   "metadata": {},
   "outputs": [
    {
     "name": "stdout",
     "output_type": "stream",
     "text": [
      "100\n",
      "100\n",
      "0\n"
     ]
    }
   ],
   "source": [
    "sums = 0\n",
    "a = list(map(int, input().split()))\n",
    "for i in range(len(a)):\n",
    "    sums += a[i]\n",
    "\n",
    "print(sums)\n",
    "print(sums % 2)"
   ]
  },
  {
   "cell_type": "code",
   "execution_count": null,
   "metadata": {},
   "outputs": [],
   "source": [
    "# 2.5.3\n",
    "n = int(input())\n",
    "ans = 1\n",
    "for i in range(n, 0, -1):\n",
    "    ans *=  i\n",
    "print(ans)"
   ]
  },
  {
   "cell_type": "code",
   "execution_count": 10,
   "metadata": {},
   "outputs": [
    {
     "name": "stdout",
     "output_type": "stream",
     "text": [
      "100\n",
      "2 3 5 7 11 13 17 19 23 29 31 37 41 43 47 53 59 61 67 71 73 79 83 89 97 \n",
      "\n"
     ]
    }
   ],
   "source": [
    "# 2.5.4\n",
    "# 入力N以下の素数を表示する。\n",
    "\n",
    "result = ''\n",
    "n = int(input())\n",
    "list_box = []\n",
    "\n",
    "if n == 2:\n",
    "    list_box.append(n)\n",
    "\n",
    "else:\n",
    "    for i in range(2, n+1):\n",
    "        list_box.append(i)\n",
    "        for j in range(2, i):\n",
    "            if i % j == 0:\n",
    "                list_box.pop(-1)\n",
    "                break\n",
    "\n",
    "for x in list_box:\n",
    "    result += str(x) + ' '\n",
    "print(result)"
   ]
  },
  {
   "cell_type": "code",
   "execution_count": null,
   "metadata": {},
   "outputs": [],
   "source": [
    "# ランダウOって何？"
   ]
  }
 ],
 "metadata": {
  "kernelspec": {
   "display_name": "Python 3",
   "language": "python",
   "name": "python3"
  },
  "language_info": {
   "codemirror_mode": {
    "name": "ipython",
    "version": 3
   },
   "file_extension": ".py",
   "mimetype": "text/x-python",
   "name": "python",
   "nbconvert_exporter": "python",
   "pygments_lexer": "ipython3",
   "version": "3.7.6"
  }
 },
 "nbformat": 4,
 "nbformat_minor": 4
}
