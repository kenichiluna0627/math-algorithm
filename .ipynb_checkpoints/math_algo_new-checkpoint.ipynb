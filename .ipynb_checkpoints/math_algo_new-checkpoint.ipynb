{
 "cells": [
  {
   "cell_type": "markdown",
   "metadata": {},
   "source": [
    "## アルゴリズムx数学が基礎からしっかり身につく本"
   ]
  },
  {
   "cell_type": "code",
   "execution_count": null,
   "metadata": {},
   "outputs": [],
   "source": [
    "# 10進法を2進法に変換\n",
    "\n",
    "n = int(input())\n",
    "result = []\n",
    "binary = ''\n",
    "\n",
    "while True:\n",
    "    if n == 1:\n",
    "        result.append(n)\n",
    "        break\n",
    "    else:\n",
    "        result.append(n % 2)\n",
    "        n = n // 2\n",
    "print(result[::-1])\n",
    "\n",
    "for x in map(str, result[::-1]):\n",
    "    binary += x\n",
    "print(int(binary))"
   ]
  },
  {
   "cell_type": "code",
   "execution_count": null,
   "metadata": {},
   "outputs": [],
   "source": [
    "# 2進法を10進法に変換\n",
    "kotae = 0\n",
    "\n",
    "binary = list(map(int, input().split()))\n",
    "keta = len(binary)\n",
    "for i in binary:\n",
    "    kotae += i * 2 ** (keta-1)\n",
    "    keta -= 1\n",
    "print(kotae)\n",
    "a = list(map(int, input().split()))\n",
    "sum(a) % 10\n",
    "10\n",
    "0\n",
    "sums = 0\n",
    "a = list(map(int, input().split()))\n",
    "for i in range(len(a)):\n",
    "    sums += a[i]\n",
    "\n",
    "print(sums)\n",
    "print(sums % 2)"
   ]
  },
  {
   "cell_type": "code",
   "execution_count": null,
   "metadata": {},
   "outputs": [],
   "source": [
    "# 2.5.3\n",
    "n = int(input())\n",
    "ans = 1\n",
    "for i in range(n, 0, -1):\n",
    "    ans *=  i\n",
    "print(ans)\n"
   ]
  },
  {
   "cell_type": "code",
   "execution_count": null,
   "metadata": {},
   "outputs": [],
   "source": [
    "# 2.5.4\n",
    "# 入力N以下の素数を表示する。\n",
    "\n",
    "result = ''\n",
    "n = int(input())\n",
    "list_box = []\n",
    "\n",
    "if n == 2:\n",
    "    list_box.append(n)\n",
    "\n",
    "else:\n",
    "    for i in range(2, n+1):\n",
    "        list_box.append(i)\n",
    "        for j in range(2, i):\n",
    "            if i % j == 0:\n",
    "                list_box.pop(-1)\n",
    "                break\n",
    "\n",
    "for x in list_box:\n",
    "    result += str(x) + ' '\n",
    "print(result)"
   ]
  },
  {
   "cell_type": "code",
   "execution_count": null,
   "metadata": {},
   "outputs": [],
   "source": [
    "# ランダウOって何？\n",
    "# log10(N)とlog2(N)では計算量にあまり差がない。\n",
    "# N=2 のとき何倍の差があるか？\n",
    "import math\n",
    "math.log2(2) / math.log10(2)\n",
    "3.321928094887362\n",
    "# 素数の判定。\n",
    "# Nが素数かどうかの判定は、sqrt(N)までの整数でNが割り切れるか確認すれば良い。\n",
    "import math\n",
    "def isprime(n):\n",
    "    is_prime = True\n",
    "    p = int(math.sqrt(n))  # n**0.5でいいよね\n",
    "    for i in range(2, p):\n",
    "        if n % i == 0:\n",
    "            is_prime = False\n",
    "    if is_prime:\n",
    "        return print(f'{n} is prime number')\n",
    "    else:\n",
    "        return print(f'{n} is NOT prime number')\n",
    "isprime(47)"
   ]
  },
  {
   "cell_type": "code",
   "execution_count": null,
   "metadata": {},
   "outputs": [],
   "source": [
    "# 約数をすべて表示するプログラム\n",
    "import math\n",
    "def get_all_divisors(n):\n",
    "    list_box = []\n",
    "    for i in range(1, int(math.sqrt(n))):\n",
    "        if n % i == 0:\n",
    "            list_box.append(i)\n",
    "            list_box.append(int(n/i))\n",
    "    print(sorted(list_box))\n",
    "get_all_divisors(1000)\n",
    "[1, 2, 4, 5, 8, 10, 20, 25, 40, 50, 100, 125, 200, 250, 500, 1000]\n",
    "get_all_divisors(286)\n",
    "[1, 2, 11, 13, 22, 26, 143, 286]\n",
    "n = int(input())\n",
    "list_box = []\n",
    "for i in range(1, int(math.sqrt(n))):\n",
    "    if n % i == 0:\n",
    "        list_box.append(i)\n",
    "print(list_box)"
   ]
  },
  {
   "cell_type": "code",
   "execution_count": null,
   "metadata": {},
   "outputs": [],
   "source": [
    "\n",
    "# きまぐれ\n",
    "def helloxtimes(n):\n",
    "    print('Hello'*n)\n",
    "helloxtimes(9)\n",
    "HelloHelloHelloHelloHelloHelloHelloHelloHello\n",
    "import math\n",
    "list_box = [2,4,6,7,8,9]\n",
    "mean = sum(list_box) / len(list_box)\n",
    "s2 = 0\n",
    "for i in list_box:\n",
    "    s2 += (i - mean)**2\n",
    "hjgs = math.sqrt(s2/(len(list_box)-1)/len(list_box))\n",
    "print(hjgs)\n",
    "1.0645812948447542\n",
    "import math\n",
    "list_box = [126, 224, 34, 25, 199, 89, 178, 14, 38, 11]\n",
    "mean = sum(list_box) / len(list_box)\n",
    "s2 = 0\n",
    "for i in list_box:\n",
    "    s2 += (i - mean)**2\n",
    "var = s2 / len(list_box) # 分散\n",
    "std = math.sqrt(var) #　標準偏差\n",
    "se = math.sqrt(s2/(len(list_box)-1)/len(list_box)) # 標準誤差\n",
    "print(f'分散：{var}')\n",
    "print(f'標準偏差：{std}')\n",
    "print(f'標準誤差：{se}')\n",
    "分散：6081.5599999999995\n",
    "標準偏差：77.9843574058285\n",
    "標準誤差：25.994785801942836\n",
    "import math\n",
    "list_box = [15.4, 15.8, 15.9, 16.1, 16.2, 16.4, 16.6, 16.8, 16.9, 17.5]\n",
    "mean = sum(list_box) / len(list_box)\n",
    "s2 = 0\n",
    "for i in list_box:\n",
    "    s2 += (i - mean)**2\n",
    "var = s2 / (len(list_box)-1) # 不偏分散\n",
    "std = math.sqrt(var) #　不偏分散の平方根（標準偏差）\n",
    "se = math.sqrt(var/len(list_box)) # 標準誤差\n",
    "print(f'分散：{var}')\n",
    "print(f'標準偏差：{std}')\n",
    "print(f'標準誤差：{se}')\n",
    "分散：0.37599999999999967\n",
    "標準偏差：0.6131883886702354\n",
    "標準誤差：0.19390719429665307\n",
    "# 設末問題　問題3.1.2\n",
    "\n",
    "N = int(input())\n",
    "\n"
   ]
  },
  {
   "cell_type": "code",
   "execution_count": null,
   "metadata": {},
   "outputs": [],
   "source": [
    "\n",
    "# 素因数分解\n",
    "Answer = []\n",
    "LIMIT = int(N ** 0.5)\n",
    "for i in range(2, LIMIT + 1):  # 変数iを2からNの平方根（の整数）まで変化させ、Nをiで割っていく。\n",
    "    while N % i == 0:  # 割り切れたとき、そのiはNの約数だから\n",
    "        N /= i  # Nをiで割っておく。 whileが回るたびにNがｉで除されていく\n",
    "        Answer.append(i)  # iで割り切れたのだから約数としてAnswerにアペンドしていく。\n",
    "        # while ループのはじめに戻り、Nをiで割った商が更に同じiで割れる場合はwhileがまた繰り返される。\n",
    "        # 同じiで割り切れない場合はwhileを抜けて次のfor文に入る。つまりiが１つインクリメントされてwhileに諮られる。\n",
    "\n",
    "if N >= 2:  # Nがfor文内で割り切れなかった場合は割り切れたなかったNを最後にアペンドする。\n",
    "    Answer.append(int(N))\n",
    "\n",
    "# 出力\n",
    "print(*Answer)  # アンパッキングして出力\n",
    "12\n",
    "2\n",
    "2\n",
    "3\n",
    "2 2 3\n",
    "n = int(input())\n",
    "\n",
    "answer = []\n",
    "for i in range(2, int(n**0.5)+1):\n",
    "    while n % i == 0:\n",
    "        n = n / i\n",
    "        answer.append(i)\n",
    "if n >= 2:\n",
    "    answer.append(int(n))\n",
    "    \n",
    "print(answer)\n",
    "123\n",
    "[3, 41]"
   ]
  },
  {
   "cell_type": "code",
   "execution_count": null,
   "metadata": {},
   "outputs": [],
   "source": [
    "# ユークリッド互除法\n",
    "\"\"\"\n",
    "整数AとBの最大公約数を求めるとき、\n",
    "max(A, B)をmin(A, B)で割った余りを求め、\n",
    "今度はその余りともう一方の整数（直前の割り算において割った側の整数）の\n",
    "大小を比較して、大きい整数を小さい整数で割った余りを・・・を繰り返し\n",
    "どちらかが０（ゼロ）になった時の相手方の整数が、AとBの最大公約数となる。\n",
    "\"\"\"\n",
    "\n",
    "a, b = map(int, input().split())\n",
    "\n",
    "# 大きい整数を小さい整数で割った余りを、大きい整数と置き換えていき\n",
    "# 最終的に余りが零になったときの相手側の整数が、最大公約数である。\n",
    "while min(a, b) != 0:\n",
    "    x = max(a, b) % min(a, b) \n",
    "    if a >= b:\n",
    "        a = x\n",
    "    else:\n",
    "        b = x\n",
    "print(max(a, b))"
   ]
  },
  {
   "cell_type": "code",
   "execution_count": null,
   "metadata": {},
   "outputs": [],
   "source": [
    "# 3個以上の最大公約数\n",
    "\"\"\"\n",
    "まず２つの整数の最大公約数を求め、\n",
    "次にその最大公約数と次の整数の最大公約数を求めて、\n",
    "これを繰り返していき最後に出た最大公約数が答えとなる。\n",
    "\"\"\"\n",
    "\n",
    "# 以下アルゴリズム的には合っているようだが時間がかかる\n",
    "n = int(input())\n",
    "elements = list(map(int, input().split()))\n",
    "while len(elements) > 1:\n",
    "    x = elements.pop(0)\n",
    "    y = elements.pop(0)\n",
    "    while min(x, y) != 0:\n",
    "        z = max(x, y) % min(x, y)\n",
    "        if x >= y:\n",
    "            x = z\n",
    "        else:\n",
    "            y = z\n",
    "    elements.insert(0, max(x, y))\n",
    "print(*elements)"
   ]
  },
  {
   "cell_type": "code",
   "execution_count": null,
   "metadata": {},
   "outputs": [],
   "source": [
    "# 3個以上の最大公約数(修正)\n",
    "\n",
    "# 時間短縮回答\n",
    "# リストの内容をいちいち書き換えると時間がかかる（問題では30倍も違う）ので、\n",
    "# list[i]の形で取って来る方法を考える。\n",
    "\n",
    "def gcd(x, y):  # Greatest Common Divisor\n",
    "    while x >= 1 and y >= 1:\n",
    "        if x >= y:\n",
    "            x = x % y\n",
    "        else:\n",
    "            y = y % x\n",
    "    if x >= 1:\n",
    "        return x\n",
    "    else:\n",
    "        return y\n",
    "    \n",
    "n = int(input())\n",
    "elements = list(map(int, input().split()))\n",
    "\n",
    "r = gcd(elements[0], elements[1])  # 初回の最大公約数計算もfor文一気に書こうとしないのが時短のミソ。\n",
    "for i in range(2, n): # for文の中で関数を再帰的に使うのもミソ。\n",
    "    r = gcd(r, elements[i])\n",
    "    \n",
    "print(r)\n"
   ]
  },
  {
   "cell_type": "code",
   "execution_count": null,
   "metadata": {},
   "outputs": [],
   "source": [
    "# 最小公倍数\n",
    "\n",
    "\"\"\"\n",
    "２つの整数（A, B）を乗じる。\n",
    "ユークリッド互除法で余りがゼロになるまで計算したとき\n",
    "最後の計算において割る方の数Ｚではじめの乗算結果を除する。\n",
    "Ａ×Ｂ÷Ｚ\n",
    "（最後の計算において割る方の数というのは、余りがゼロになるひとつ前の割り算のあまりだよね。）\n",
    "\"\"\"\n",
    "\n",
    "def lcm(a, b): # Least Common Multiple\n",
    "    a_init, b_init = a, b\n",
    "    while max(a, b) % min(a, b) != 0:\n",
    "        z = max(a, b) % min(a, b)\n",
    "        if a >= b:\n",
    "            a = z\n",
    "        else:\n",
    "            b = z\n",
    "    return int(a_init * b_init / min(a, b))\n",
    "\n",
    "n = int(input())\n",
    "a, b = map(int, input().split())\n",
    "\n",
    "print(lcm(a, b))"
   ]
  },
  {
   "cell_type": "code",
   "execution_count": null,
   "metadata": {},
   "outputs": [],
   "source": [
    "# 3つ以上の整数における最小公倍数\n",
    "\n",
    "def lcm(a, b): # Least Common Multiple\n",
    "    a_init, b_init = a, b\n",
    "    while max(a, b) % min(a, b) != 0:\n",
    "        z = max(a, b) % min(a, b)\n",
    "        if a >= b:\n",
    "            a = z\n",
    "        else:\n",
    "            b = z\n",
    "    return int(a_init * b_init / min(a, b))\n",
    "\n",
    "n = int(input())\n",
    "elements = list(map(int, input().split()))\n",
    "\n",
    "r = lcm(elements[0], elements[1])\n",
    "for i in range(2, n):\n",
    "    r = lcm(r, elements[i])\n",
    "\n",
    "print(r)\n"
   ]
  },
  {
   "cell_type": "code",
   "execution_count": null,
   "metadata": {},
   "outputs": [],
   "source": [
    "#節末問題3.3.3\n",
    "'''\n",
    "nCr = n!/r!*(n-r)!\n",
    "'''\n",
    "def factorial(x):\n",
    "    ans = 1\n",
    "    for i in range(1, x+1):\n",
    "        ans *= i\n",
    "    return ans\n",
    "\n",
    "n, r = map(int, input().split())\n",
    "upper = factorial(n)\n",
    "lower = factorial(r) * factorial(n-r)\n",
    "print(int(upper / lower))"
   ]
  },
  {
   "cell_type": "code",
   "execution_count": null,
   "metadata": {},
   "outputs": [],
   "source": [
    "#節末問題3.3.4\n",
    "\n",
    "\"\"\"\n",
    "ex)\n",
    "5\n",
    "100 300 400 400 200\n",
    "->3\n",
    "\"\"\"\n",
    "\n",
    "n = int(input())\n",
    "list_a = list(map(int, input().split()))\n",
    "\n",
    "a, b, c, d = 0, 0, 0, 0\n",
    "\n",
    "for i in list_a:\n",
    "    if i == 100:\n",
    "        a += 1\n",
    "    elif i == 200:\n",
    "        b += 1\n",
    "    elif i == 300:\n",
    "        c += 1\n",
    "    elif i == 400:\n",
    "        d += 1\n",
    "print(a * d + b * c)"
   ]
  },
  {
   "cell_type": "code",
   "execution_count": null,
   "metadata": {},
   "outputs": [],
   "source": [
    "#節末問題3.3.5\n",
    "\n",
    "def factorial(x):\n",
    "    ans = 1\n",
    "    for i in range(1, x+1):\n",
    "        ans *= i\n",
    "    return ans\n",
    "\n",
    "def combination(n, r):\n",
    "    upper = factorial(n)\n",
    "    lower = factorial(r) * factorial(n-r)\n",
    "    return (int(upper / lower))\n",
    "\n",
    "n = int(input())\n",
    "list_a = list(map(int, input().split()))\n",
    "\n",
    "red, yellow, blue = 0, 0, 0\n",
    "\n",
    "for i in list_a:\n",
    "    if i == 1:\n",
    "        red += 1\n",
    "    elif i == 2:\n",
    "        yellow += 1\n",
    "    elif i == 3:\n",
    "        blue += 1\n",
    "print(combination(red, 2) + combination(yellow, 2) + combination(blue, 2))\n",
    "\n"
   ]
  },
  {
   "cell_type": "code",
   "execution_count": null,
   "metadata": {},
   "outputs": [],
   "source": [
    "#節末問題3.3.5(改)\n",
    "\n",
    "n = int(input())\n",
    "list_a = list(map(int, input().split()))\n",
    "\n",
    "red, yellow, blue = 0, 0, 0\n",
    "\n",
    "for i in list_a:\n",
    "    if i == 1:\n",
    "        red += 1\n",
    "    elif i == 2:\n",
    "        yellow += 1\n",
    "    elif i == 3:\n",
    "        blue += 1\n",
    "\n",
    "ans = (red*(red-1))/2 + (yellow*(yellow-1))/2 + (blue*(blue-1))/2\n",
    "print(int(ans))"
   ]
  },
  {
   "cell_type": "code",
   "execution_count": null,
   "metadata": {},
   "outputs": [],
   "source": [
    "#節末問題3.3.6\n",
    "\n",
    "n = int(input())\n",
    "list_a = list(map(int, input().split()))\n",
    "\n",
    "petterns = 0\n",
    "\n",
    "for i in range(n-3):\n",
    "    for j in range(i+1, n):\n",
    "        if list_a[i] + list_a[j] == 100000:\n",
    "            petterns += 1\n",
    "\n",
    "print(petterns)"
   ]
  },
  {
   "cell_type": "code",
   "execution_count": null,
   "metadata": {},
   "outputs": [],
   "source": [
    "#節末問題3.3.6 模範解答\n",
    "\"\"\"\n",
    "整数A1, A2 ..., An　が書かれたカードｎ枚から、合計が100000になる\n",
    "2枚のカードの選び方は何通りか？\n",
    "\"\"\"\n",
    "\n",
    "# 入力\n",
    "N = int(input())\n",
    "A = list(map(int, input().split()))\n",
    "\n",
    "# 答えを求める\n",
    "cnt = [0 for i in range(100000)]\n",
    "for i in range(N):\n",
    "    cnt[A[i]] += 1\n",
    "\n",
    "Answer = 0\n",
    "for i in range(1, 50000):\n",
    "    Answer += cnt[i] * cnt[100000 - i]\n",
    "Answer += cnt[50000] * (cnt[50000] - 1) // 2\n",
    "\n",
    "# 出力\n",
    "print(Answer)"
   ]
  },
  {
   "cell_type": "code",
   "execution_count": 4,
   "metadata": {},
   "outputs": [
    {
     "name": "stdout",
     "output_type": "stream",
     "text": [
      "7\n",
      "5 5 5 5 5 5 5\n",
      "21\n"
     ]
    }
   ],
   "source": [
    "#節末問題3.3.6　を小さな数字(2枚の合計が10)で試してみる\n",
    "\n",
    "# 入力\n",
    "N = int(input())\n",
    "A = list(map(int, input().split()))\n",
    "\n",
    "# 長さ10、要素の値が全てゼロのリストcntをつくる。\n",
    "cnt = [0 for i in range(10)]\n",
    "\n",
    "# このリストのインデックス番号とカードの値に、リストの値がカードの枚数に一致すると考える。\n",
    "#　例えば３のカードが２枚ある場合、リストのインデックス番号3の値が2となる。\n",
    "for i in range(N):\n",
    "    cnt[A[i]] += 1\n",
    "\n",
    "Answer = 0\n",
    "\n",
    "# ２枚の合計が10になるには、1と9、２と８、３と７、４と６、５と５の組み合わせである。\n",
    "# カードの数字とリストのインデックス番号は一致しているから、\n",
    "# 1と９について言えば、インデックス１とインデックス９の値がそれぞれ１以上であれば\n",
    "# 合計が１０となる組み合わせが１つ以上存在することになる。\n",
    "#　例えばインデックス１の値が2、インデックス９の値が3の場合\n",
    "# その組み合わせは２✕３の６通りとなる。つまりリストの値同士の掛け算。\n",
    "# ただしN÷2の値（つまり５）については、２枚以上でないと成立しないので、別に計算する。\n",
    "for i in range(1, 5):\n",
    "    Answer += cnt[i] * cnt[10 - i]\n",
    "    \n",
    "#　５のカード（つまりインデックス番号５）については、１枚のときの組はゼロ、\n",
    "# ２枚のときは1組、３枚のときは３組、４枚のときは６組...となる、\n",
    "# これはｎ枚の中から２枚を選び出す方法（ｎC2）だから「n*(n-1) // 2」となる。（//にすることで整数が返ってくる）\n",
    "Answer += cnt[5] * (cnt[5] - 1) // 2\n",
    "\n",
    "# 出力\n",
    "print(Answer)"
   ]
  },
  {
   "cell_type": "code",
   "execution_count": 3,
   "metadata": {},
   "outputs": [
    {
     "name": "stdout",
     "output_type": "stream",
     "text": [
      "3\n",
      "1 2 3\n",
      "10 20 30\n",
      "22.0\n"
     ]
    }
   ],
   "source": [
    "#問題3.4.5\n",
    "n = int(input())\n",
    "list_blue = list(map(int, input().split()))\n",
    "list_red = list(map(int, input().split()))\n",
    "prize_ex = 0\n",
    "p = 1 / n\n",
    "for b in list_blue:\n",
    "    prize_ex += b * p\n",
    "for r in list_red:\n",
    "    prize_ex += r * p\n",
    "print(prize_ex)"
   ]
  },
  {
   "cell_type": "code",
   "execution_count": 4,
   "metadata": {},
   "outputs": [
    {
     "name": "stdout",
     "output_type": "stream",
     "text": [
      "3\n",
      "1 2 3\n",
      "10 20 30\n",
      "22.0\n"
     ]
    }
   ],
   "source": [
    "#問題3.4.5(改)　# 同確率だからまとめて計算できるよ。\n",
    "n = int(input())\n",
    "list_blue = list(map(int, input().split()))\n",
    "list_red = list(map(int, input().split()))\n",
    "\n",
    "prize_ex = (sum(list_blue) + sum(list_red)) / n\n",
    "\n",
    "print(prize_ex)"
   ]
  },
  {
   "cell_type": "code",
   "execution_count": 5,
   "metadata": {},
   "outputs": [
    {
     "name": "stdout",
     "output_type": "stream",
     "text": [
      "2\n",
      "2 50\n",
      "4 100\n",
      "50.0\n"
     ]
    }
   ],
   "source": [
    "#問題3.4.6\n",
    "\n",
    "score = 0\n",
    "n = int(input())\n",
    "for _ in range(n):\n",
    "    p, q = map(int, input().split())\n",
    "    score += 1/ p * q  # q / p\n",
    "print(score)"
   ]
  },
  {
   "cell_type": "code",
   "execution_count": 6,
   "metadata": {},
   "outputs": [
    {
     "name": "stdout",
     "output_type": "stream",
     "text": [
      "370.0\n"
     ]
    }
   ],
   "source": [
    "# 節末問題 3.4.2\n",
    "\n",
    "ex = 1000000*1/10000 + 100000*9/10000 + 10000*9/1000 + 1000*9/100\n",
    "print(ex)"
   ]
  },
  {
   "cell_type": "code",
   "execution_count": 7,
   "metadata": {},
   "outputs": [
    {
     "name": "stdout",
     "output_type": "stream",
     "text": [
      "5\n",
      "3 1 4 1 5\n",
      "9 2 6 5 3\n",
      "21.333333333333336\n"
     ]
    }
   ],
   "source": [
    "# 節末問題 3.4.3\n",
    "n = int(input())\n",
    "list_a = list(map(int, input().split()))\n",
    "list_b = list(map(int, input().split()))\n",
    "time = sum(list_a) / 3 + sum(list_b)*2/3\n",
    "print(time)"
   ]
  },
  {
   "cell_type": "code",
   "execution_count": 20,
   "metadata": {},
   "outputs": [
    {
     "name": "stdout",
     "output_type": "stream",
     "text": [
      "5\n",
      "11.416666666666668\n"
     ]
    }
   ],
   "source": [
    "# 節末問題 3.4.4\n",
    "\"\"\"\n",
    "1 ドル払うと、\n",
    "N 種類のコインのうち \n",
    "1 つが等確率で出現する機械があります。 全種類のコインを集めるまでに支払う金額の期待値を計算するプログラムを作成してください。\n",
    "\"\"\"\n",
    "cost = 0\n",
    "n = int(input())\n",
    "for i in range(n):\n",
    "    c = i / n\n",
    "    cost += 1 / (1 - c)\n",
    "print(cost)"
   ]
  },
  {
   "cell_type": "code",
   "execution_count": 83,
   "metadata": {},
   "outputs": [
    {
     "name": "stdout",
     "output_type": "stream",
     "text": [
      "3.1352\n"
     ]
    },
    {
     "data": {
      "image/png": "[encoded data removed]",
      "text/plain": [
       "<Figure size 504x504 with 1 Axes>"
      ]
     },
     "metadata": {
      "needs_background": "light"
     },
     "output_type": "display_data"
    }
   ],
   "source": [
    "#モンテカルロ法　円周率の導出\n",
    "\"\"\"\n",
    "一辺の長さ２の正方形の中に、ランダムに点を打ち、\n",
    "その点が正方形の中心を原点とする半径１の円の中に\n",
    "含まれる割合を計算する。\n",
    "その割合は、正方形の面積（４）に対する円の面積（π）に\n",
    "近づくので、そこから円周率πを導く\n",
    "\"\"\"\n",
    "import numpy as np\n",
    "import matplotlib.pyplot as plt\n",
    "\n",
    "# -1 から 1までの２つの乱数のペアを作る\n",
    "a = np.random.uniform(-1, 1, 10000)\n",
    "b = np.random.uniform(-1, 1, 10000)\n",
    "# 半径１の円の描画\n",
    "x = np.linspace(0, 90, 1000)\n",
    "c = np.cos(x)\n",
    "d = np.sin(x)\n",
    "\n",
    "# 原点（０，０）から乱数ペアの位置までの距離が１以下である数をカウントする\n",
    "inside = 0\n",
    "a_insides = []\n",
    "b_insides = []\n",
    "a_outsides = []\n",
    "b_outsides = []\n",
    "for z in zip(a, b):\n",
    "    length = np.sqrt(z[0]**2 + z[1]**2)\n",
    "    if length <= 1:\n",
    "        inside += 1\n",
    "        a_insides.append(z[0])\n",
    "        b_insides.append(z[1])\n",
    "    else:\n",
    "        a_outsides.append(z[0])\n",
    "        b_outsides.append(z[1])\n",
    "        \n",
    "# 乱数と円のプロット（散布図）\n",
    "plt.figure(figsize=(7,7))\n",
    "plt.scatter(c, d, s=3)\n",
    "plt.scatter(a_outsides, b_outsides, s=3)\n",
    "plt.scatter(a_insides, b_insides, s=3)\n",
    "\n",
    "\n",
    "# 円周率の計算\n",
    "print(inside / len(a) * 4)"
   ]
  },
  {
   "cell_type": "code",
   "execution_count": 86,
   "metadata": {},
   "outputs": [
    {
     "name": "stdout",
     "output_type": "stream",
     "text": [
      "5000.0\n",
      "50.0\n"
     ]
    }
   ],
   "source": [
    "# 節末問題3.5.1\n",
    "from scipy import stats\n",
    "mean = stats.binom(n=10000, p=0.5).mean()\n",
    "sigma = stats.binom(n=10000, p=0.5).std()\n",
    "print(mean)\n",
    "print(sigma)"
   ]
  },
  {
   "cell_type": "code",
   "execution_count": 106,
   "metadata": {},
   "outputs": [
    {
     "data": {
      "text/plain": [
       "0.9544943366247816"
      ]
     },
     "execution_count": 106,
     "metadata": {},
     "output_type": "execute_result"
    }
   ],
   "source": [
    "#　二項分布（n=10000, p=0.5）において、4900 の左側確率\n",
    "left = stats.binom(n=10000, p=0.5).cdf(4900)\n",
    "# 5100の右側確率\n",
    "right = stats.binom(n=10000, p=0.5).sf(5100)\n",
    "# 4900から5100の間の確率は\n",
    "1 - (left + right)"
   ]
  },
  {
   "cell_type": "code",
   "execution_count": 108,
   "metadata": {},
   "outputs": [
    {
     "data": {
      "text/plain": [
       "0.9544997361036416"
      ]
     },
     "execution_count": 108,
     "metadata": {},
     "output_type": "execute_result"
    }
   ],
   "source": [
    "# 上を標準正規分布で考えると \n",
    "1 - (stats.norm(loc=0, scale=1).cdf(-2) + stats.norm(loc=0, scale=1).sf(2))"
   ]
  },
  {
   "cell_type": "code",
   "execution_count": 113,
   "metadata": {},
   "outputs": [
    {
     "data": {
      "text/plain": [
       "3.128966227213377e-58"
      ]
     },
     "execution_count": 113,
     "metadata": {},
     "output_type": "execute_result"
    }
   ],
   "source": [
    "# x = 5800 の右側確率は\n",
    "stats.binom(n=10000, p=0.5).sf(5800)\n",
    "#　標準偏差✕３も大きく超えているのでコインの表が出る確率が５０％であることはありえない。"
   ]
  },
  {
   "cell_type": "code",
   "execution_count": 117,
   "metadata": {},
   "outputs": [
    {
     "data": {
      "text/plain": [
       "719152"
      ]
     },
     "execution_count": 117,
     "metadata": {},
     "output_type": "execute_result"
    }
   ],
   "source": [
    "# 3.5.2(1)\n",
    "x = np.random.uniform(0, 6, 1000000)\n",
    "y = np.random.uniform(0, 9, 1000000)\n",
    "\n",
    "count = 0\n",
    "\n",
    "for i in zip(x, y):\n",
    "    # 原点(3,3)とする半径3の円に入っている数と\n",
    "    if ((i[0]-3)**2 + (i[1]-3)**2)**0.5 <= 3:\n",
    "        count += 1\n",
    "    # 原点(3,7)とする半径2の円に入っている数を合算する。\n",
    "    elif ((i[0]-3)**2 + (i[1]-7)**2)**0.5 <= 2: \n",
    "        count += 1\n",
    "count"
   ]
  },
  {
   "cell_type": "code",
   "execution_count": 118,
   "metadata": {},
   "outputs": [
    {
     "data": {
      "text/plain": [
       "38.834208"
      ]
     },
     "execution_count": 118,
     "metadata": {},
     "output_type": "execute_result"
    }
   ],
   "source": [
    "# 3.5.2(2)\n",
    "count/1000000 * 6 * 9"
   ]
  },
  {
   "cell_type": "code",
   "execution_count": 125,
   "metadata": {},
   "outputs": [
    {
     "name": "stdout",
     "output_type": "stream",
     "text": [
      "6\n",
      "30 10 60 10 60 50\n",
      "40\n"
     ]
    }
   ],
   "source": [
    "# 3.7.6　\n",
    "\"\"\"\n",
    "カエルの移動（移動する足場の高さの差だけ体力を消耗する。ある足場への移動はその１つ前または２つ前の足場から移動できる。\n",
    "\"\"\"\n",
    "# 足場の数（ｎ）\n",
    "n = int(input())\n",
    "\n",
    "# それぞれの足場の高さ（リスト）\n",
    "d = list(map(int, input().split()))\n",
    "\n",
    "# １番目の足場からそれぞれの足場に移動したときの体力消耗の最小値をdpに格納する。そのために要素の値が０のリストを作っておく。\n",
    "dp = [0 for _ in range(n)]\n",
    "\n",
    "# １番目の足場は移動が必要ないので値は０\n",
    "dp[0] = 0\n",
    "\n",
    "# ２番目の足場は１番めの足場から移動するしかないので、１番目の足場と２番目の足場の差の絶対値が消費する体力となる。\n",
    "dp[1] = abs(d[1] - d[0])\n",
    "\n",
    "# ３番目以降の足場への移動は、その２つ前（i-2番目）から移動する場合に消耗する体力 + i-2番目の足場にまでに消費した体力を加算したものと、\n",
    "# １つ前(i-1番目)から移動する場合に消耗する体力 + i-1番目の足場までに消費した体力を加算したもの、のうち小さい方を採用\n",
    "for i in range(2, n):\n",
    "    dp[i] = min(dp[i-2] + abs(d[i-2] - d[i]), dp[i-1] + abs(d[i-1] - d[i]))\n",
    "\n",
    "# 一番最後の足場に到達した時の消耗体力が求める答え\n",
    "print(dp[-1])"
   ]
  },
  {
   "cell_type": "code",
   "execution_count": 126,
   "metadata": {},
   "outputs": [
    {
     "data": {
      "text/plain": [
       "[0, 20, 30, 20, 30, 40]"
      ]
     },
     "execution_count": 126,
     "metadata": {},
     "output_type": "execute_result"
    }
   ],
   "source": [
    "dp"
   ]
  },
  {
   "cell_type": "code",
   "execution_count": 2,
   "metadata": {},
   "outputs": [
    {
     "name": "stdout",
     "output_type": "stream",
     "text": [
      "[11, 13, 34, 34, 50, 62, 62]\n"
     ]
    }
   ],
   "source": [
    "# merge操作\n",
    "list_a = [13, 34, 50, 75]\n",
    "list_b = [11, 34, 62, 62]\n",
    "list_c = []\n",
    "\n",
    "while len(list_a) != 0 and len(list_b) != 0:\n",
    "    if len(list_a) == 0:\n",
    "        list_c.append(min(list_b))\n",
    "        list_b.remove(min(list_b))\n",
    "    elif len(list_b) == 0:\n",
    "        list_c.append(min(list_a))\n",
    "        list_a.remove(min(list_a))\n",
    "    else:\n",
    "        if min(list_a) <= min(list_b):\n",
    "            list_c.append(min(list_a))\n",
    "            list_a.remove(min(list_a))\n",
    "        else:\n",
    "            list_c.append(min(list_b))\n",
    "            list_b.remove(min(list_b))\n",
    "                \n",
    "print(list_c)"
   ]
  },
  {
   "cell_type": "code",
   "execution_count": null,
   "metadata": {},
   "outputs": [],
   "source": [
    "# 3.7.7\n",
    "\n",
    "n = int(input())\n",
    "dp = [0 for _ in range(n+1)]\n",
    "\n",
    "# dp[0] : 0段目から0段目に上がる方法の数\n",
    "# dp[1] : 0段目から1段目に上がる方法の数\n",
    "# dp[N] : 0段目からN段目に上がる方法の数\n",
    "\n",
    "dp[0] = 1\n",
    "dp[1] = 1\n",
    "for i in range(2, n+1):\n",
    "    dp[i] = dp[i-2] + dp[i-1]\n",
    "print(dp)"
   ]
  },
  {
   "cell_type": "code",
   "execution_count": 83,
   "metadata": {},
   "outputs": [
    {
     "data": {
      "text/plain": [
       "[[0, 0, 0, 0, 0, 0, 0, 0, 0, 0, 0],\n",
       " [0, 0, 0, 100, 100, 100, 100, 100, 100, 100, 100],\n",
       " [0, 0, 0, 100, 100, 100, 210, 210, 210, 310, 310],\n",
       " [0, 0, 0, 100, 130, 130, 210, 230, 230, 310, 340],\n",
       " [0, 0, 57, 100, 130, 157, 210, 230, 267, 310, 340]]"
      ]
     },
     "execution_count": 83,
     "metadata": {},
     "output_type": "execute_result"
    }
   ],
   "source": [
    "# 3.7.8　ナップザック問題\n",
    "N = 4\n",
    "W = 10\n",
    "w = [0]\n",
    "v = [0]\n",
    "j = 0\n",
    "list_box = [[0 for _ in range(W+1)] for _ in range(N+1)]\n",
    "# list_box[1][1] = 5\n",
    "items = [(3,100), (6, 210), (4, 130), (2, 57)]\n",
    "\n",
    "for item in items:\n",
    "    w.append(item[0])\n",
    "    v.append(item[1])\n",
    "    \n",
    "for i in range(1, len(items)+1):\n",
    "    for j in range(W+1):\n",
    "        if j < w[i]:\n",
    "            list_box[i][j] = list_box[i-1][j]\n",
    "        elif j >= w[i]:\n",
    "            list_box[i][j] = max(list_box[i-1][j], list_box[i-1][j-w[i]] + v[i])\n",
    "list_box"
   ]
  },
  {
   "cell_type": "code",
   "execution_count": 69,
   "metadata": {},
   "outputs": [
    {
     "data": {
      "text/plain": [
       "[0, 3, 6, 4, 2]"
      ]
     },
     "execution_count": 69,
     "metadata": {},
     "output_type": "execute_result"
    }
   ],
   "source": [
    "w"
   ]
  },
  {
   "cell_type": "code",
   "execution_count": 70,
   "metadata": {},
   "outputs": [
    {
     "data": {
      "text/plain": [
       "[0, 100, 210, 130, 57]"
      ]
     },
     "execution_count": 70,
     "metadata": {},
     "output_type": "execute_result"
    }
   ],
   "source": [
    "v"
   ]
  },
  {
   "cell_type": "code",
   "execution_count": 71,
   "metadata": {},
   "outputs": [
    {
     "data": {
      "text/plain": [
       "3"
      ]
     },
     "execution_count": 71,
     "metadata": {},
     "output_type": "execute_result"
    }
   ],
   "source": [
    "i"
   ]
  },
  {
   "cell_type": "code",
   "execution_count": 72,
   "metadata": {},
   "outputs": [
    {
     "data": {
      "text/plain": [
       "13"
      ]
     },
     "execution_count": 72,
     "metadata": {},
     "output_type": "execute_result"
    }
   ],
   "source": [
    "j"
   ]
  },
  {
   "cell_type": "code",
   "execution_count": 84,
   "metadata": {},
   "outputs": [
    {
     "data": {
      "text/plain": [
       "[[0, 0, 0, 0, 0, 0, 0, 0, 0, 0, 0],\n",
       " [0, 0, 0, 100, 100, 100, 100, 100, 100, 100, 100],\n",
       " [0, 0, 0, 100, 100, 100, 210, 210, 210, 310, 310],\n",
       " [0, 0, 0, 100, 130, 130, 210, 230, 230, 310, 340],\n",
       " [0, 0, 57, 100, 130, 157, 210, 230, 267, 310, 340]]"
      ]
     },
     "execution_count": 84,
     "metadata": {},
     "output_type": "execute_result"
    }
   ],
   "source": [
    "list_box"
   ]
  },
  {
   "cell_type": "code",
   "execution_count": null,
   "metadata": {},
   "outputs": [],
   "source": []
  }
 ],
 "metadata": {
  "kernelspec": {
   "display_name": "Python 3",
   "language": "python",
   "name": "python3"
  },
  "language_info": {
   "codemirror_mode": {
    "name": "ipython",
    "version": 3
   },
   "file_extension": ".py",
   "mimetype": "text/x-python",
   "name": "python",
   "nbconvert_exporter": "python",
   "pygments_lexer": "ipython3",
   "version": "3.7.6"
  }
 },
 "nbformat": 4,
 "nbformat_minor": 4
}
