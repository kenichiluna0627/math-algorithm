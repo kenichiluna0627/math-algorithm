{
 "cells": [
  {
   "cell_type": "code",
   "execution_count": 12,
   "id": "304bc43d",
   "metadata": {},
   "outputs": [],
   "source": [
    "import math"
   ]
  },
  {
   "cell_type": "code",
   "execution_count": 25,
   "id": "0303722d",
   "metadata": {},
   "outputs": [
    {
     "name": "stdout",
     "output_type": "stream",
     "text": [
      "13\n",
      "[1, 1, 0, 1]\n",
      "1101\n"
     ]
    }
   ],
   "source": [
    "# 10進法を2進法に変換\n",
    "\n",
    "n = int(input())\n",
    "result = []\n",
    "binary = ''\n",
    "\n",
    "while True:\n",
    "    if n == 1:\n",
    "        result.append(n)\n",
    "        break\n",
    "    else:\n",
    "        result.append(n % 2)\n",
    "        n = n // 2\n",
    "print(result[::-1])\n",
    "\n",
    "for x in map(str, result[::-1]):\n",
    "    binary += x\n",
    "print(int(binary))"
   ]
  },
  {
   "cell_type": "code",
   "execution_count": 24,
   "id": "96f67cf2",
   "metadata": {},
   "outputs": [
    {
     "name": "stdout",
     "output_type": "stream",
     "text": [
      "1 1 0 1\n",
      "13\n"
     ]
    }
   ],
   "source": [
    "# 2進法を10進法に変換\n",
    "kotae = 0\n",
    "\n",
    "binary = list(map(int, input().split()))\n",
    "keta = len(binary)\n",
    "for i in binary:\n",
    "    kotae += i * 2 ** (keta-1)\n",
    "    keta -= 1\n",
    "print(kotae)"
   ]
  },
  {
   "cell_type": "code",
   "execution_count": null,
   "id": "3bc9a337",
   "metadata": {},
   "outputs": [],
   "source": []
  }
 ],
 "metadata": {
  "kernelspec": {
   "display_name": "Python 3",
   "language": "python",
   "name": "python3"
  },
  "language_info": {
   "codemirror_mode": {
    "name": "ipython",
    "version": 3
   },
   "file_extension": ".py",
   "mimetype": "text/x-python",
   "name": "python",
   "nbconvert_exporter": "python",
   "pygments_lexer": "ipython3",
   "version": "3.8.8"
  }
 },
 "nbformat": 4,
 "nbformat_minor": 5
}
