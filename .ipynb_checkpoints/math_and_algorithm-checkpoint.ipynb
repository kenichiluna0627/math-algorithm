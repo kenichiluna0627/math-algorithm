{
 "cells": [
  {
   "cell_type": "markdown",
   "metadata": {},
   "source": [
    "## アルゴリズムx数学が基礎からしっかり身につく本"
   ]
  },
  {
   "cell_type": "code",
   "execution_count": null,
   "metadata": {},
   "outputs": [],
   "source": [
    "# 10進法を2進法に変換\n",
    "\n",
    "n = int(input())\n",
    "result = []\n",
    "binary = ''\n",
    "\n",
    "while True:\n",
    "    if n == 1:\n",
    "        result.append(n)\n",
    "        break\n",
    "    else:\n",
    "        result.append(n % 2)\n",
    "        n = n // 2\n",
    "print(result[::-1])\n",
    "\n",
    "for x in map(str, result[::-1]):\n",
    "    binary += x\n",
    "print(int(binary))"
   ]
  },
  {
   "cell_type": "code",
   "execution_count": null,
   "metadata": {},
   "outputs": [],
   "source": [
    "# 2進法を10進法に変換\n",
    "kotae = 0\n",
    "\n",
    "binary = list(map(int, input().split()))\n",
    "keta = len(binary)\n",
    "for i in binary:\n",
    "    kotae += i * 2 ** (keta-1)\n",
    "    keta -= 1\n",
    "print(kotae)"
   ]
  },
  {
   "cell_type": "code",
   "execution_count": 1,
   "metadata": {},
   "outputs": [
    {
     "name": "stdout",
     "output_type": "stream",
     "text": [
      "10\n"
     ]
    },
    {
     "data": {
      "text/plain": [
       "0"
      ]
     },
     "execution_count": 1,
     "metadata": {},
     "output_type": "execute_result"
    }
   ],
   "source": [
    "a = list(map(int, input().split()))\n",
    "sum(a) % 10"
   ]
  },
  {
   "cell_type": "code",
   "execution_count": 2,
   "metadata": {},
   "outputs": [
    {
     "name": "stdout",
     "output_type": "stream",
     "text": [
      "100\n",
      "100\n",
      "0\n"
     ]
    }
   ],
   "source": [
    "sums = 0\n",
    "a = list(map(int, input().split()))\n",
    "for i in range(len(a)):\n",
    "    sums += a[i]\n",
    "\n",
    "print(sums)\n",
    "print(sums % 2)"
   ]
  },
  {
   "cell_type": "code",
   "execution_count": 9,
   "metadata": {},
   "outputs": [
    {
     "name": "stdout",
     "output_type": "stream",
     "text": [
      "5\n",
      "120\n"
     ]
    }
   ],
   "source": [
    "# 2.5.3\n",
    "n = int(input())\n",
    "ans = 1\n",
    "for i in range(n, 0, -1):\n",
    "    ans *=  i\n",
    "print(ans)"
   ]
  },
  {
   "cell_type": "code",
   "execution_count": 10,
   "metadata": {},
   "outputs": [
    {
     "name": "stdout",
     "output_type": "stream",
     "text": [
      "100\n",
      "2 3 5 7 11 13 17 19 23 29 31 37 41 43 47 53 59 61 67 71 73 79 83 89 97 \n",
      "\n"
     ]
    }
   ],
   "source": [
    "# 2.5.4\n",
    "# 入力N以下の素数を表示する。\n",
    "\n",
    "result = ''\n",
    "n = int(input())\n",
    "list_box = []\n",
    "\n",
    "if n == 2:\n",
    "    list_box.append(n)\n",
    "\n",
    "else:\n",
    "    for i in range(2, n+1):\n",
    "        list_box.append(i)\n",
    "        for j in range(2, i):\n",
    "            if i % j == 0:\n",
    "                list_box.pop(-1)\n",
    "                break\n",
    "\n",
    "for x in list_box:\n",
    "    result += str(x) + ' '\n",
    "print(result)"
   ]
  },
  {
   "cell_type": "code",
   "execution_count": 11,
   "metadata": {},
   "outputs": [
    {
     "data": {
      "text/plain": [
       "3.321928094887362"
      ]
     },
     "execution_count": 11,
     "metadata": {},
     "output_type": "execute_result"
    }
   ],
   "source": [
    "# ランダウOって何？\n",
    "# log10(N)とlog2(N)では計算量にあまり差がない。\n",
    "# N=2 のとき何倍の差があるか？\n",
    "import math\n",
    "math.log2(2) / math.log10(2)"
   ]
  },
  {
   "cell_type": "code",
   "execution_count": 52,
   "metadata": {},
   "outputs": [],
   "source": [
    "# 素数の判定。\n",
    "# Nが素数かどうかの判定は、sqrt(N)までの整数でNが割り切れるか確認すれば良い。\n",
    "import math\n",
    "def isprime(n):\n",
    "    is_prime = True\n",
    "    p = int(math.sqrt(n))\n",
    "    for i in range(2, p):\n",
    "        if n % i == 0:\n",
    "            is_prime = False\n",
    "    if is_prime:\n",
    "        return print(f'{n} is prime number')\n",
    "    else:\n",
    "        return print(f'{n} is NOT prime number')"
   ]
  },
  {
   "cell_type": "code",
   "execution_count": 53,
   "metadata": {},
   "outputs": [
    {
     "name": "stdout",
     "output_type": "stream",
     "text": [
      "47 is prime number\n"
     ]
    }
   ],
   "source": [
    "isprime(47)"
   ]
  },
  {
   "cell_type": "code",
   "execution_count": 28,
   "metadata": {},
   "outputs": [
    {
     "name": "stdout",
     "output_type": "stream",
     "text": [
      "2\n",
      "3\n",
      "4\n",
      "5\n",
      "6\n",
      "7\n"
     ]
    }
   ],
   "source": [
    "x = int(math.sqrt(77))\n",
    "for i in range(2, x):\n",
    "    print(i)"
   ]
  },
  {
   "cell_type": "code",
   "execution_count": 50,
   "metadata": {},
   "outputs": [],
   "source": [
    "# 約数をすべて表示するプログラム\n",
    "def get_all_divisors(n):\n",
    "    list_box = []\n",
    "    for i in range(1, int(math.sqrt(n))):\n",
    "        if n % i == 0:\n",
    "            list_box.append(i)\n",
    "            list_box.append(int(n/i))\n",
    "    print(sorted(list_box))"
   ]
  },
  {
   "cell_type": "code",
   "execution_count": 51,
   "metadata": {},
   "outputs": [
    {
     "name": "stdout",
     "output_type": "stream",
     "text": [
      "[1, 2, 4, 5, 8, 10, 20, 25, 40, 50, 100, 125, 200, 250, 500, 1000]\n"
     ]
    }
   ],
   "source": [
    "get_all_divisors(1000)"
   ]
  },
  {
   "cell_type": "code",
   "execution_count": null,
   "metadata": {},
   "outputs": [],
   "source": []
  }
 ],
 "metadata": {
  "kernelspec": {
   "display_name": "Python 3",
   "language": "python",
   "name": "python3"
  },
  "language_info": {
   "codemirror_mode": {
    "name": "ipython",
    "version": 3
   },
   "file_extension": ".py",
   "mimetype": "text/x-python",
   "name": "python",
   "nbconvert_exporter": "python",
   "pygments_lexer": "ipython3",
   "version": "3.7.6"
  }
 },
 "nbformat": 4,
 "nbformat_minor": 4
}
